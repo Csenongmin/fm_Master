{
 "cells": [
  {
   "cell_type": "code",
   "execution_count": null,
   "metadata": {
    "id": "i2-zZu1nq3gm"
   },
   "outputs": [],
   "source": [
    "import matplotlib.pyplot as plt\n",
    "import pandas as pd\n",
    "import seaborn as sns\n",
    "import numpy as np\n",
    "import matplotlib.patches as patches\n",
    "import csv as csv"
   ]
  },
  {
   "cell_type": "code",
   "execution_count": null,
   "metadata": {
    "id": "FZJJZO2BZxzp"
   },
   "outputs": [],
   "source": [
    "#!pip install import_ipynb"
   ]
  },
  {
   "cell_type": "code",
   "execution_count": 20,
   "metadata": {
    "id": "raGsVMGbZ6YD"
   },
   "outputs": [],
   "source": [
    "import Metrica_IO as mio\n",
    "import Metrica_Viz as mviz"
   ]
  },
  {
   "cell_type": "code",
   "execution_count": 21,
   "metadata": {
    "id": "dwToCIMpaPSS"
   },
   "outputs": [],
   "source": [
    "def to_single_playing_direction(home,away,events):\n",
    "    '''\n",
    "    Flip coordinates in second half so that each team always shoots in the same direction through the match.\n",
    "    '''\n",
    "    for team in [home,away,events]:\n",
    "        if (team.Period == 2).any():\n",
    "          second_half_idx = team[team['Period'] == 2].index[0]\n",
    "\n",
    "          # Select columns ending with 'x' or 'y' (case-insensitive)\n",
    "          columns = [c for c in team.columns if c[-1].lower() in ['x', 'y']]\n",
    "\n",
    "          # Flip the coordinates for the second half\n",
    "          team.loc[second_half_idx:, columns] *= -1\n",
    "    return home,away,events"
   ]
  },
  {
   "cell_type": "code",
   "execution_count": null,
   "metadata": {
    "colab": {
     "base_uri": "https://localhost:8080/"
    },
    "executionInfo": {
     "elapsed": 3495,
     "status": "ok",
     "timestamp": 1742377109912,
     "user": {
      "displayName": "identity Roy's",
      "userId": "15242036855242228840"
     },
     "user_tz": -540
    },
    "id": "mb29EA4ZaP-8",
    "outputId": "e6ae2640-9de9-4ab9-c7e3-888c1117a327"
   },
   "outputs": [
    {
     "name": "stdout",
     "output_type": "stream",
     "text": [
      "Reading team: home\n",
      "Reading team: away\n"
     ]
    }
   ],
   "source": [
    "DATADIR = '/content/drive/MyDrive/SportsData/'\n",
    "game_id = 2\n",
    "\n",
    "events = mio.read_event_data(DATADIR,game_id)\n",
    "\n",
    "tracking_home = mio.tracking_data(DATADIR,game_id,'Home')\n",
    "tracking_away = mio.tracking_data(DATADIR,game_id,'Away')\n",
    "\n",
    "tracking_home = mio.to_metric_coordinates(tracking_home)\n",
    "tracking_away = mio.to_metric_coordinates(tracking_away)\n",
    "\n",
    "events = mio.to_metric_coordinates(events)\n",
    "\n",
    "# 전반, 후반 방향 일치 (후반전 선수 방향 filp)\n",
    "tracking_home, tracking_away, events = to_single_playing_direction(tracking_home, tracking_away, events)"
   ]
  },
  {
   "cell_type": "code",
   "execution_count": null,
   "metadata": {
    "colab": {
     "base_uri": "https://localhost:8080/"
    },
    "executionInfo": {
     "elapsed": 42372,
     "status": "ok",
     "timestamp": 1742305501955,
     "user": {
      "displayName": "identity Roy's",
      "userId": "15242036855242228840"
     },
     "user_tz": -540
    },
    "id": "ujtf_oOGa9fK",
    "outputId": "b1bd2d38-3f42-4aed-f536-9d2e4dd6d6c5"
   },
   "outputs": [
    {
     "name": "stdout",
     "output_type": "stream",
     "text": [
      "Generating movie...done\n"
     ]
    }
   ],
   "source": [
    "PLOTDIR = '/content/drive/MyDrive/SportsData/'\n",
    "mviz.save_match_clip(tracking_home.iloc[73600:73600+500],tracking_away.iloc[73600:73600+500],PLOTDIR,fname='home_goal_2',include_player_velocities=False)"
   ]
  },
  {
   "cell_type": "code",
   "execution_count": null,
   "metadata": {
    "colab": {
     "base_uri": "https://localhost:8080/",
     "height": 206
    },
    "executionInfo": {
     "elapsed": 212,
     "status": "ok",
     "timestamp": 1744192995650,
     "user": {
      "displayName": "identity Roy's",
      "userId": "15242036855242228840"
     },
     "user_tz": -540
    },
    "id": "t4EBokf7gYGf",
    "outputId": "ffc3daf6-958c-405a-b920-1264d67e248c"
   },
   "outputs": [
    {
     "data": {
      "text/html": [
       "<div>\n",
       "<style scoped>\n",
       "    .dataframe tbody tr th:only-of-type {\n",
       "        vertical-align: middle;\n",
       "    }\n",
       "\n",
       "    .dataframe tbody tr th {\n",
       "        vertical-align: top;\n",
       "    }\n",
       "\n",
       "    .dataframe thead th {\n",
       "        text-align: right;\n",
       "    }\n",
       "</style>\n",
       "<table border=\"1\" class=\"dataframe\">\n",
       "  <thead>\n",
       "    <tr style=\"text-align: right;\">\n",
       "      <th></th>\n",
       "      <th>frame</th>\n",
       "      <th>x</th>\n",
       "      <th>y</th>\n",
       "      <th>time</th>\n",
       "    </tr>\n",
       "  </thead>\n",
       "  <tbody>\n",
       "    <tr>\n",
       "      <th>0</th>\n",
       "      <td>0</td>\n",
       "      <td>0.914773</td>\n",
       "      <td>0.504444</td>\n",
       "      <td>0.00</td>\n",
       "    </tr>\n",
       "    <tr>\n",
       "      <th>1</th>\n",
       "      <td>1</td>\n",
       "      <td>0.914773</td>\n",
       "      <td>0.504444</td>\n",
       "      <td>0.04</td>\n",
       "    </tr>\n",
       "    <tr>\n",
       "      <th>2</th>\n",
       "      <td>2</td>\n",
       "      <td>0.914773</td>\n",
       "      <td>0.504444</td>\n",
       "      <td>0.08</td>\n",
       "    </tr>\n",
       "    <tr>\n",
       "      <th>3</th>\n",
       "      <td>3</td>\n",
       "      <td>0.916193</td>\n",
       "      <td>0.504444</td>\n",
       "      <td>0.12</td>\n",
       "    </tr>\n",
       "    <tr>\n",
       "      <th>4</th>\n",
       "      <td>4</td>\n",
       "      <td>0.917614</td>\n",
       "      <td>0.504444</td>\n",
       "      <td>0.16</td>\n",
       "    </tr>\n",
       "  </tbody>\n",
       "</table>\n",
       "</div>"
      ],
      "text/plain": [
       "   frame         x         y  time\n",
       "0      0  0.914773  0.504444  0.00\n",
       "1      1  0.914773  0.504444  0.04\n",
       "2      2  0.914773  0.504444  0.08\n",
       "3      3  0.916193  0.504444  0.12\n",
       "4      4  0.917614  0.504444  0.16"
      ]
     },
     "execution_count": 25,
     "metadata": {},
     "output_type": "execute_result"
    }
   ],
   "source": [
    "DATADIR2 = './interpolation'\n",
    "home_list = []\n",
    "away_list = []\n",
    "\n",
    "for i in range(1, 12):\n",
    "    df = pd.read_csv(f'{DATADIR2}/home_{i}.csv')\n",
    "    home_list.append(df)\n",
    "\n",
    "for i in range(1, 12):\n",
    "    df = pd.read_csv(f'{DATADIR2}/away_{i}.csv')\n",
    "    away_list.append(df)\n",
    "\n",
    "home_list[0].head()"
   ]
  },
  {
   "cell_type": "code",
   "execution_count": null,
   "metadata": {
    "id": "yawbaeE3Cavd"
   },
   "outputs": [],
   "source": [
    "for h in home_list:\n",
    "    h['period'] = 1\n",
    "for a in away_list:\n",
    "    a['period'] = 1"
   ]
  },
  {
   "cell_type": "code",
   "execution_count": null,
   "metadata": {
    "id": "swJ8dA_sl9TN"
   },
   "outputs": [],
   "source": [
    "\"\"\"\n",
    "df_6['period'] = (df_6['time'] > 2696.48).astype(int) + 1\n",
    "df_7['period'] = (df_7['time'] > 2696.48).astype(int) + 1\n",
    "df_4['period'] = (df_4['time'] > 2696.48).astype(int) + 1\n",
    "\"\"\""
   ]
  },
  {
   "cell_type": "code",
   "execution_count": null,
   "metadata": {
    "colab": {
     "base_uri": "https://localhost:8080/"
    },
    "executionInfo": {
     "elapsed": 32,
     "status": "ok",
     "timestamp": 1744193059111,
     "user": {
      "displayName": "identity Roy's",
      "userId": "15242036855242228840"
     },
     "user_tz": -540
    },
    "id": "njmVoHXwpPSL",
    "outputId": "8bcea4a6-984b-472a-a7d9-6678f65de2ee"
   },
   "outputs": [
    {
     "name": "stdout",
     "output_type": "stream",
     "text": [
      "       period   time  Home_1_x  Home_1_y  Home_2_x  Home_2_y  Home_3_x  \\\n",
      "Frame                                                                    \n",
      "0           1   0.00  0.914773  0.504444  0.610795  0.497778  0.509943   \n",
      "1           1   0.04  0.914773  0.504444  0.610795  0.500000  0.509943   \n",
      "2           1   0.08  0.914773  0.504444  0.611269  0.500000  0.509943   \n",
      "3           1   0.12  0.916193  0.504444  0.611742  0.500000  0.509943   \n",
      "4           1   0.16  0.917614  0.504444  0.612216  0.500000  0.509943   \n",
      "...       ...    ...       ...       ...       ...       ...       ...   \n",
      "548         1  21.92  0.914418  0.553333  0.600852  0.675556  0.427557   \n",
      "549         1  21.96  0.914773  0.553333  0.600852  0.673333  0.427557   \n",
      "550         1  22.00  0.914773  0.555556  0.600852  0.673333  0.427557   \n",
      "551         1  22.04  0.914773  0.553333  0.600852  0.673333  0.426705   \n",
      "552         1  22.08  0.914773  0.551111  0.600852  0.673333  0.425852   \n",
      "\n",
      "       Home_3_y  Home_4_x  Home_4_y  ...  Home_7_x  Home_7_y  Home_8_x  \\\n",
      "Frame                                ...                                 \n",
      "0      0.348889  0.542614  0.717778  ...  0.576705  0.408889  0.663352   \n",
      "1      0.348889  0.542614  0.717778  ...  0.576705  0.408889  0.663352   \n",
      "2      0.349630  0.544034  0.717778  ...  0.576705  0.408889  0.663352   \n",
      "3      0.350370  0.542614  0.715556  ...  0.576705  0.408889  0.663352   \n",
      "4      0.351111  0.544034  0.717778  ...  0.576705  0.408889  0.663352   \n",
      "...         ...       ...       ...  ...       ...       ...       ...   \n",
      "548    0.597778  0.590909  0.911111  ...  0.598544  0.515833  0.723011   \n",
      "549    0.597778  0.590909  0.911111  ...  0.597656  0.516111  0.723011   \n",
      "550    0.597778  0.590909  0.911111  ...  0.596768  0.516389  0.723011   \n",
      "551    0.597778  0.589489  0.911111  ...  0.595881  0.516667  0.722301   \n",
      "552    0.597778  0.588305  0.911111  ...  0.594993  0.516944  0.721591   \n",
      "\n",
      "       Home_8_y  Home_9_x  Home_9_y  Home_10_x  Home_10_y  Home_11_x  \\\n",
      "Frame                                                                  \n",
      "0      0.755556  0.572443  0.597778   0.684659   0.580000   0.544034   \n",
      "1      0.755556  0.572443  0.597778   0.684659   0.580000   0.544034   \n",
      "2      0.755556  0.572443  0.597778   0.684659   0.580000   0.546875   \n",
      "3      0.755556  0.572443  0.597778   0.684659   0.580000   0.548295   \n",
      "4      0.753333  0.572443  0.597778   0.684659   0.580000   0.544034   \n",
      "...         ...       ...       ...        ...        ...        ...   \n",
      "548    0.793333  0.508523  0.751111   0.728693   0.686667   0.617898   \n",
      "549    0.793333  0.508523  0.751111   0.728693   0.686667   0.617898   \n",
      "550    0.797778  0.508523  0.751111   0.728693   0.686667   0.617898   \n",
      "551    0.797778  0.504261  0.748889   0.728693   0.686667   0.617898   \n",
      "552    0.797778  0.504261  0.751111   0.728693   0.686667   0.617898   \n",
      "\n",
      "       Home_11_y  \n",
      "Frame             \n",
      "0       0.288889  \n",
      "1       0.286667  \n",
      "2       0.288889  \n",
      "3       0.286667  \n",
      "4       0.288889  \n",
      "...          ...  \n",
      "548     0.424444  \n",
      "549     0.424444  \n",
      "550     0.424444  \n",
      "551     0.424444  \n",
      "552     0.424444  \n",
      "\n",
      "[553 rows x 24 columns]\n"
     ]
    }
   ],
   "source": [
    "for i in range(1, 12):\n",
    "    df = pd.read_csv(f'{DATADIR2}/home_{i}.csv')\n",
    "    home_list.append(df)\n",
    "\n",
    "for i in range(1,12):\n",
    "    home_list[i-1] = home_list[i-1].rename(columns={f'x': 'Home_{i}_x', 'y': 'Home_{i}_y'})\n",
    "    away_list[i-1] = away_list[i-1].rename(columns={f'x': 'Away_{i}_x', 'y': 'Away_{i}_y'})\n",
    "\n",
    "home_merged = home_list[0][['frame', 'period', 'time', 'Home_1_x', 'Home_1_y']]  # 데이터 병합 (frame, period, time)\n",
    "away_merged = away_list[0][['frame', 'period', 'time', 'Away_1_x', 'Away_1_y']]\n",
    "\n",
    "for i in range(2, 12):\n",
    "    home_merged = home_merged.merge(\n",
    "        home_list[i-1][['frame', f'Home_{i}_x', f'Home_{i}_y']],\n",
    "        on='frame'\n",
    "    )\n",
    "    away_merged = away_merged.merge(\n",
    "        away_list[i-1][['frame', f'Away_{i}_x', f'Away_{i}_y']],\n",
    "        on='frame'\n",
    "    )\n",
    "\n",
    "# Frame을 인덱스로 설정\n",
    "home_merged = home_merged.set_index('frame')\n",
    "home_merged.index.name = 'Frame'\n",
    "away_merged = away_merged.set_index('frame')\n",
    "away_merged.index.name = 'Frame'\n",
    "print(home_merged)\n",
    "print(away_merged)"
   ]
  },
  {
   "cell_type": "code",
   "execution_count": null,
   "metadata": {
    "id": "exnD-Mxgu5oQ"
   },
   "outputs": [],
   "source": [
    "home_merged['ball_x'] = 0\n",
    "home_merged['ball_y'] = 0\n",
    "away_merged['ball_x'] = 0\n",
    "away_merged['ball_y'] = 0"
   ]
  },
  {
   "cell_type": "code",
   "execution_count": 31,
   "metadata": {
    "id": "rxWhRGCMxtdI"
   },
   "outputs": [],
   "source": [
    "home_merged = home_merged.rename(columns={'period': 'Period', 'time': 'Time [s]'})\n",
    "away_merged = away_merged.rename(columns={'period': 'Period', 'time': 'Time [s]'})"
   ]
  },
  {
   "cell_type": "code",
   "execution_count": 32,
   "metadata": {
    "colab": {
     "base_uri": "https://localhost:8080/",
     "height": 238
    },
    "executionInfo": {
     "elapsed": 50,
     "status": "ok",
     "timestamp": 1742902178476,
     "user": {
      "displayName": "identity Roy's",
      "userId": "15242036855242228840"
     },
     "user_tz": -540
    },
    "id": "5McarlAmvvQT",
    "outputId": "31a59b4c-cb30-4ccb-bba9-2e682f5aee4c"
   },
   "outputs": [
    {
     "data": {
      "text/html": [
       "<div>\n",
       "<style scoped>\n",
       "    .dataframe tbody tr th:only-of-type {\n",
       "        vertical-align: middle;\n",
       "    }\n",
       "\n",
       "    .dataframe tbody tr th {\n",
       "        vertical-align: top;\n",
       "    }\n",
       "\n",
       "    .dataframe thead th {\n",
       "        text-align: right;\n",
       "    }\n",
       "</style>\n",
       "<table border=\"1\" class=\"dataframe\">\n",
       "  <thead>\n",
       "    <tr style=\"text-align: right;\">\n",
       "      <th></th>\n",
       "      <th>Period</th>\n",
       "      <th>Time [s]</th>\n",
       "      <th>Away_1_x</th>\n",
       "      <th>Away_1_y</th>\n",
       "      <th>Away_2_x</th>\n",
       "      <th>Away_2_y</th>\n",
       "      <th>Away_3_x</th>\n",
       "      <th>Away_3_y</th>\n",
       "      <th>Away_4_x</th>\n",
       "      <th>Away_4_y</th>\n",
       "      <th>...</th>\n",
       "      <th>Away_8_x</th>\n",
       "      <th>Away_8_y</th>\n",
       "      <th>Away_9_x</th>\n",
       "      <th>Away_9_y</th>\n",
       "      <th>Away_10_x</th>\n",
       "      <th>Away_10_y</th>\n",
       "      <th>Away_11_x</th>\n",
       "      <th>Away_11_y</th>\n",
       "      <th>ball_x</th>\n",
       "      <th>ball_y</th>\n",
       "    </tr>\n",
       "    <tr>\n",
       "      <th>Frame</th>\n",
       "      <th></th>\n",
       "      <th></th>\n",
       "      <th></th>\n",
       "      <th></th>\n",
       "      <th></th>\n",
       "      <th></th>\n",
       "      <th></th>\n",
       "      <th></th>\n",
       "      <th></th>\n",
       "      <th></th>\n",
       "      <th></th>\n",
       "      <th></th>\n",
       "      <th></th>\n",
       "      <th></th>\n",
       "      <th></th>\n",
       "      <th></th>\n",
       "      <th></th>\n",
       "      <th></th>\n",
       "      <th></th>\n",
       "      <th></th>\n",
       "      <th></th>\n",
       "    </tr>\n",
       "  </thead>\n",
       "  <tbody>\n",
       "    <tr>\n",
       "      <th>0</th>\n",
       "      <td>1</td>\n",
       "      <td>0.00</td>\n",
       "      <td>0.117898</td>\n",
       "      <td>0.504444</td>\n",
       "      <td>0.488636</td>\n",
       "      <td>0.822222</td>\n",
       "      <td>0.372159</td>\n",
       "      <td>0.797778</td>\n",
       "      <td>0.497159</td>\n",
       "      <td>0.500000</td>\n",
       "      <td>...</td>\n",
       "      <td>0.382102</td>\n",
       "      <td>0.571111</td>\n",
       "      <td>0.386364</td>\n",
       "      <td>0.422222</td>\n",
       "      <td>0.419034</td>\n",
       "      <td>0.593333</td>\n",
       "      <td>0.490057</td>\n",
       "      <td>0.188889</td>\n",
       "      <td>0</td>\n",
       "      <td>0</td>\n",
       "    </tr>\n",
       "    <tr>\n",
       "      <th>1</th>\n",
       "      <td>1</td>\n",
       "      <td>0.04</td>\n",
       "      <td>0.117898</td>\n",
       "      <td>0.504444</td>\n",
       "      <td>0.488636</td>\n",
       "      <td>0.822222</td>\n",
       "      <td>0.372159</td>\n",
       "      <td>0.797778</td>\n",
       "      <td>0.500000</td>\n",
       "      <td>0.504444</td>\n",
       "      <td>...</td>\n",
       "      <td>0.382102</td>\n",
       "      <td>0.568889</td>\n",
       "      <td>0.387784</td>\n",
       "      <td>0.422222</td>\n",
       "      <td>0.420455</td>\n",
       "      <td>0.593333</td>\n",
       "      <td>0.490057</td>\n",
       "      <td>0.188889</td>\n",
       "      <td>0</td>\n",
       "      <td>0</td>\n",
       "    </tr>\n",
       "    <tr>\n",
       "      <th>2</th>\n",
       "      <td>1</td>\n",
       "      <td>0.08</td>\n",
       "      <td>0.117898</td>\n",
       "      <td>0.504444</td>\n",
       "      <td>0.488636</td>\n",
       "      <td>0.822222</td>\n",
       "      <td>0.372159</td>\n",
       "      <td>0.797778</td>\n",
       "      <td>0.500000</td>\n",
       "      <td>0.502222</td>\n",
       "      <td>...</td>\n",
       "      <td>0.382102</td>\n",
       "      <td>0.571111</td>\n",
       "      <td>0.387784</td>\n",
       "      <td>0.422222</td>\n",
       "      <td>0.420455</td>\n",
       "      <td>0.593333</td>\n",
       "      <td>0.490057</td>\n",
       "      <td>0.188889</td>\n",
       "      <td>0</td>\n",
       "      <td>0</td>\n",
       "    </tr>\n",
       "    <tr>\n",
       "      <th>3</th>\n",
       "      <td>1</td>\n",
       "      <td>0.12</td>\n",
       "      <td>0.117898</td>\n",
       "      <td>0.504444</td>\n",
       "      <td>0.488636</td>\n",
       "      <td>0.822222</td>\n",
       "      <td>0.372159</td>\n",
       "      <td>0.797778</td>\n",
       "      <td>0.500000</td>\n",
       "      <td>0.504444</td>\n",
       "      <td>...</td>\n",
       "      <td>0.382102</td>\n",
       "      <td>0.571111</td>\n",
       "      <td>0.386364</td>\n",
       "      <td>0.424444</td>\n",
       "      <td>0.419034</td>\n",
       "      <td>0.593333</td>\n",
       "      <td>0.490057</td>\n",
       "      <td>0.188889</td>\n",
       "      <td>0</td>\n",
       "      <td>0</td>\n",
       "    </tr>\n",
       "    <tr>\n",
       "      <th>4</th>\n",
       "      <td>1</td>\n",
       "      <td>0.16</td>\n",
       "      <td>0.117898</td>\n",
       "      <td>0.504444</td>\n",
       "      <td>0.488636</td>\n",
       "      <td>0.822222</td>\n",
       "      <td>0.372869</td>\n",
       "      <td>0.797778</td>\n",
       "      <td>0.500000</td>\n",
       "      <td>0.502222</td>\n",
       "      <td>...</td>\n",
       "      <td>0.379261</td>\n",
       "      <td>0.577778</td>\n",
       "      <td>0.386364</td>\n",
       "      <td>0.424444</td>\n",
       "      <td>0.420455</td>\n",
       "      <td>0.593333</td>\n",
       "      <td>0.490057</td>\n",
       "      <td>0.188889</td>\n",
       "      <td>0</td>\n",
       "      <td>0</td>\n",
       "    </tr>\n",
       "  </tbody>\n",
       "</table>\n",
       "<p>5 rows × 26 columns</p>\n",
       "</div>"
      ],
      "text/plain": [
       "       Period  Time [s]  Away_1_x  Away_1_y  Away_2_x  Away_2_y  Away_3_x  \\\n",
       "Frame                                                                       \n",
       "0           1      0.00  0.117898  0.504444  0.488636  0.822222  0.372159   \n",
       "1           1      0.04  0.117898  0.504444  0.488636  0.822222  0.372159   \n",
       "2           1      0.08  0.117898  0.504444  0.488636  0.822222  0.372159   \n",
       "3           1      0.12  0.117898  0.504444  0.488636  0.822222  0.372159   \n",
       "4           1      0.16  0.117898  0.504444  0.488636  0.822222  0.372869   \n",
       "\n",
       "       Away_3_y  Away_4_x  Away_4_y  ...  Away_8_x  Away_8_y  Away_9_x  \\\n",
       "Frame                                ...                                 \n",
       "0      0.797778  0.497159  0.500000  ...  0.382102  0.571111  0.386364   \n",
       "1      0.797778  0.500000  0.504444  ...  0.382102  0.568889  0.387784   \n",
       "2      0.797778  0.500000  0.502222  ...  0.382102  0.571111  0.387784   \n",
       "3      0.797778  0.500000  0.504444  ...  0.382102  0.571111  0.386364   \n",
       "4      0.797778  0.500000  0.502222  ...  0.379261  0.577778  0.386364   \n",
       "\n",
       "       Away_9_y  Away_10_x  Away_10_y  Away_11_x  Away_11_y  ball_x  ball_y  \n",
       "Frame                                                                        \n",
       "0      0.422222   0.419034   0.593333   0.490057   0.188889       0       0  \n",
       "1      0.422222   0.420455   0.593333   0.490057   0.188889       0       0  \n",
       "2      0.422222   0.420455   0.593333   0.490057   0.188889       0       0  \n",
       "3      0.424444   0.419034   0.593333   0.490057   0.188889       0       0  \n",
       "4      0.424444   0.420455   0.593333   0.490057   0.188889       0       0  \n",
       "\n",
       "[5 rows x 26 columns]"
      ]
     },
     "execution_count": 32,
     "metadata": {},
     "output_type": "execute_result"
    }
   ],
   "source": [
    "away_merged.head()"
   ]
  },
  {
   "cell_type": "code",
   "execution_count": 33,
   "metadata": {
    "colab": {
     "base_uri": "https://localhost:8080/",
     "height": 147
    },
    "executionInfo": {
     "elapsed": 16,
     "status": "error",
     "timestamp": 1742902192645,
     "user": {
      "displayName": "identity Roy's",
      "userId": "15242036855242228840"
     },
     "user_tz": -540
    },
    "id": "93DdlJ51yOOt",
    "outputId": "a47cf0ad-003c-4ea3-dbf5-f93006813146"
   },
   "outputs": [
    {
     "data": {
      "text/plain": [
       "Index([  0,   1,   2,   3,   4,   5,   6,   7,   8,   9,\n",
       "       ...\n",
       "       543, 544, 545, 546, 547, 548, 549, 550, 551, 552],\n",
       "      dtype='int64', name='Frame', length=553)"
      ]
     },
     "execution_count": 33,
     "metadata": {},
     "output_type": "execute_result"
    }
   ],
   "source": [
    "home_merged.index"
   ]
  },
  {
   "cell_type": "code",
   "execution_count": 34,
   "metadata": {},
   "outputs": [
    {
     "data": {
      "text/plain": [
       "Index([  0,   1,   2,   3,   4,   5,   6,   7,   8,   9,\n",
       "       ...\n",
       "       541, 542, 543, 544, 545, 546, 547, 548, 549, 550],\n",
       "      dtype='int64', name='Frame', length=551)"
      ]
     },
     "execution_count": 34,
     "metadata": {},
     "output_type": "execute_result"
    }
   ],
   "source": [
    "away_merged.index"
   ]
  },
  {
   "cell_type": "code",
   "execution_count": 35,
   "metadata": {
    "id": "Bnr7MFFqyTMU"
   },
   "outputs": [
    {
     "data": {
      "text/plain": [
       "(551, 26)"
      ]
     },
     "execution_count": 35,
     "metadata": {},
     "output_type": "execute_result"
    }
   ],
   "source": [
    "away_merged.shape"
   ]
  },
  {
   "cell_type": "code",
   "execution_count": 36,
   "metadata": {
    "colab": {
     "base_uri": "https://localhost:8080/"
    },
    "executionInfo": {
     "elapsed": 22,
     "status": "ok",
     "timestamp": 1742904153428,
     "user": {
      "displayName": "identity Roy's",
      "userId": "15242036855242228840"
     },
     "user_tz": -540
    },
    "id": "wzTyFECZydbU",
    "outputId": "72e41e07-6c14-4b4f-c427-49d36d196afc"
   },
   "outputs": [
    {
     "data": {
      "text/plain": [
       "(551, 26)"
      ]
     },
     "execution_count": 36,
     "metadata": {},
     "output_type": "execute_result"
    }
   ],
   "source": [
    "\n",
    "home_merged = home_merged.iloc[:551]\n",
    "home_merged.shape"
   ]
  },
  {
   "cell_type": "code",
   "execution_count": 37,
   "metadata": {
    "id": "qfXuZ9uS2qzg"
   },
   "outputs": [],
   "source": [
    "df_home = mio.to_metric_coordinates(home_merged)\n",
    "df_away = mio.to_metric_coordinates(away_merged)\n"
   ]
  },
  {
   "cell_type": "code",
   "execution_count": 38,
   "metadata": {
    "colab": {
     "base_uri": "https://localhost:8080/",
     "height": 206
    },
    "executionInfo": {
     "elapsed": 87,
     "status": "ok",
     "timestamp": 1744194751144,
     "user": {
      "displayName": "identity Roy's",
      "userId": "15242036855242228840"
     },
     "user_tz": -540
    },
    "id": "YzPTgzJc4lwt",
    "outputId": "5b9707de-a7c6-4574-e66e-00bdb8f97368"
   },
   "outputs": [
    {
     "data": {
      "text/html": [
       "<div>\n",
       "<style scoped>\n",
       "    .dataframe tbody tr th:only-of-type {\n",
       "        vertical-align: middle;\n",
       "    }\n",
       "\n",
       "    .dataframe tbody tr th {\n",
       "        vertical-align: top;\n",
       "    }\n",
       "\n",
       "    .dataframe thead th {\n",
       "        text-align: right;\n",
       "    }\n",
       "</style>\n",
       "<table border=\"1\" class=\"dataframe\">\n",
       "  <thead>\n",
       "    <tr style=\"text-align: right;\">\n",
       "      <th></th>\n",
       "      <th>Period</th>\n",
       "      <th>Time [s]</th>\n",
       "      <th>Away_1_x</th>\n",
       "      <th>Away_1_y</th>\n",
       "      <th>Away_2_x</th>\n",
       "      <th>Away_2_y</th>\n",
       "      <th>Away_3_x</th>\n",
       "      <th>Away_3_y</th>\n",
       "      <th>Away_4_x</th>\n",
       "      <th>Away_4_y</th>\n",
       "      <th>...</th>\n",
       "      <th>Away_8_x</th>\n",
       "      <th>Away_8_y</th>\n",
       "      <th>Away_9_x</th>\n",
       "      <th>Away_9_y</th>\n",
       "      <th>Away_10_x</th>\n",
       "      <th>Away_10_y</th>\n",
       "      <th>Away_11_x</th>\n",
       "      <th>Away_11_y</th>\n",
       "      <th>ball_x</th>\n",
       "      <th>ball_y</th>\n",
       "    </tr>\n",
       "    <tr>\n",
       "      <th>Frame</th>\n",
       "      <th></th>\n",
       "      <th></th>\n",
       "      <th></th>\n",
       "      <th></th>\n",
       "      <th></th>\n",
       "      <th></th>\n",
       "      <th></th>\n",
       "      <th></th>\n",
       "      <th></th>\n",
       "      <th></th>\n",
       "      <th></th>\n",
       "      <th></th>\n",
       "      <th></th>\n",
       "      <th></th>\n",
       "      <th></th>\n",
       "      <th></th>\n",
       "      <th></th>\n",
       "      <th></th>\n",
       "      <th></th>\n",
       "      <th></th>\n",
       "      <th></th>\n",
       "    </tr>\n",
       "  </thead>\n",
       "  <tbody>\n",
       "    <tr>\n",
       "      <th>8</th>\n",
       "      <td>1</td>\n",
       "      <td>0.32</td>\n",
       "      <td>-40.502841</td>\n",
       "      <td>-0.302222</td>\n",
       "      <td>-1.355114</td>\n",
       "      <td>-22.062222</td>\n",
       "      <td>-13.551136</td>\n",
       "      <td>-20.248889</td>\n",
       "      <td>0.150568</td>\n",
       "      <td>-0.604444</td>\n",
       "      <td>...</td>\n",
       "      <td>-12.497159</td>\n",
       "      <td>-4.986667</td>\n",
       "      <td>-11.894886</td>\n",
       "      <td>5.137778</td>\n",
       "      <td>-8.431818</td>\n",
       "      <td>-6.346667</td>\n",
       "      <td>-1.053977</td>\n",
       "      <td>21.155556</td>\n",
       "      <td>-53.0</td>\n",
       "      <td>34.0</td>\n",
       "    </tr>\n",
       "    <tr>\n",
       "      <th>9</th>\n",
       "      <td>1</td>\n",
       "      <td>0.36</td>\n",
       "      <td>-40.502841</td>\n",
       "      <td>-0.302222</td>\n",
       "      <td>-1.355114</td>\n",
       "      <td>-22.213333</td>\n",
       "      <td>-13.099432</td>\n",
       "      <td>-20.551111</td>\n",
       "      <td>0.150568</td>\n",
       "      <td>-0.604444</td>\n",
       "      <td>...</td>\n",
       "      <td>-12.497159</td>\n",
       "      <td>-5.137778</td>\n",
       "      <td>-11.894886</td>\n",
       "      <td>4.835556</td>\n",
       "      <td>-8.582386</td>\n",
       "      <td>-6.346667</td>\n",
       "      <td>-1.053977</td>\n",
       "      <td>21.457778</td>\n",
       "      <td>-53.0</td>\n",
       "      <td>34.0</td>\n",
       "    </tr>\n",
       "    <tr>\n",
       "      <th>10</th>\n",
       "      <td>1</td>\n",
       "      <td>0.40</td>\n",
       "      <td>-40.502841</td>\n",
       "      <td>-0.302222</td>\n",
       "      <td>-1.355114</td>\n",
       "      <td>-22.364444</td>\n",
       "      <td>-13.099432</td>\n",
       "      <td>-20.551111</td>\n",
       "      <td>0.150568</td>\n",
       "      <td>-0.604444</td>\n",
       "      <td>...</td>\n",
       "      <td>-12.497159</td>\n",
       "      <td>-5.137778</td>\n",
       "      <td>-11.894886</td>\n",
       "      <td>4.835556</td>\n",
       "      <td>-8.582386</td>\n",
       "      <td>-6.497778</td>\n",
       "      <td>-0.903409</td>\n",
       "      <td>21.155556</td>\n",
       "      <td>-53.0</td>\n",
       "      <td>34.0</td>\n",
       "    </tr>\n",
       "    <tr>\n",
       "      <th>11</th>\n",
       "      <td>1</td>\n",
       "      <td>0.44</td>\n",
       "      <td>-40.502841</td>\n",
       "      <td>-0.302222</td>\n",
       "      <td>-1.204545</td>\n",
       "      <td>-22.062222</td>\n",
       "      <td>-13.099432</td>\n",
       "      <td>-20.551111</td>\n",
       "      <td>0.150568</td>\n",
       "      <td>-0.604444</td>\n",
       "      <td>...</td>\n",
       "      <td>-12.497159</td>\n",
       "      <td>-5.137778</td>\n",
       "      <td>-11.894886</td>\n",
       "      <td>4.835556</td>\n",
       "      <td>-8.582386</td>\n",
       "      <td>-6.346667</td>\n",
       "      <td>-0.903409</td>\n",
       "      <td>21.457778</td>\n",
       "      <td>-53.0</td>\n",
       "      <td>34.0</td>\n",
       "    </tr>\n",
       "  </tbody>\n",
       "</table>\n",
       "<p>4 rows × 26 columns</p>\n",
       "</div>"
      ],
      "text/plain": [
       "       Period  Time [s]   Away_1_x  Away_1_y  Away_2_x   Away_2_y   Away_3_x  \\\n",
       "Frame                                                                          \n",
       "8           1      0.32 -40.502841 -0.302222 -1.355114 -22.062222 -13.551136   \n",
       "9           1      0.36 -40.502841 -0.302222 -1.355114 -22.213333 -13.099432   \n",
       "10          1      0.40 -40.502841 -0.302222 -1.355114 -22.364444 -13.099432   \n",
       "11          1      0.44 -40.502841 -0.302222 -1.204545 -22.062222 -13.099432   \n",
       "\n",
       "        Away_3_y  Away_4_x  Away_4_y  ...   Away_8_x  Away_8_y   Away_9_x  \\\n",
       "Frame                                 ...                                   \n",
       "8     -20.248889  0.150568 -0.604444  ... -12.497159 -4.986667 -11.894886   \n",
       "9     -20.551111  0.150568 -0.604444  ... -12.497159 -5.137778 -11.894886   \n",
       "10    -20.551111  0.150568 -0.604444  ... -12.497159 -5.137778 -11.894886   \n",
       "11    -20.551111  0.150568 -0.604444  ... -12.497159 -5.137778 -11.894886   \n",
       "\n",
       "       Away_9_y  Away_10_x  Away_10_y  Away_11_x  Away_11_y  ball_x  ball_y  \n",
       "Frame                                                                        \n",
       "8      5.137778  -8.431818  -6.346667  -1.053977  21.155556   -53.0    34.0  \n",
       "9      4.835556  -8.582386  -6.346667  -1.053977  21.457778   -53.0    34.0  \n",
       "10     4.835556  -8.582386  -6.497778  -0.903409  21.155556   -53.0    34.0  \n",
       "11     4.835556  -8.582386  -6.346667  -0.903409  21.457778   -53.0    34.0  \n",
       "\n",
       "[4 rows x 26 columns]"
      ]
     },
     "execution_count": 38,
     "metadata": {},
     "output_type": "execute_result"
    }
   ],
   "source": [
    "df_away[8:12]"
   ]
  },
  {
   "cell_type": "code",
   "execution_count": 39,
   "metadata": {},
   "outputs": [],
   "source": [
    "df_home.to_csv('./results/home.csv', index=False)"
   ]
  },
  {
   "cell_type": "code",
   "execution_count": 40,
   "metadata": {},
   "outputs": [],
   "source": [
    "df_away.to_csv('./results/away.csv', index=False)"
   ]
  },
  {
   "cell_type": "code",
   "execution_count": null,
   "metadata": {
    "colab": {
     "base_uri": "https://localhost:8080/"
    },
    "executionInfo": {
     "elapsed": 34642,
     "status": "ok",
     "timestamp": 1744194790496,
     "user": {
      "displayName": "identity Roy's",
      "userId": "15242036855242228840"
     },
     "user_tz": -540
    },
    "id": "SFwy9QeBvNK4",
    "outputId": "44d758b6-5991-475b-e2c9-2b804e516b43"
   },
   "outputs": [
    {
     "ename": "RuntimeError",
     "evalue": "Requested MovieWriter (ffmpeg) not available",
     "output_type": "error",
     "traceback": [
      "\u001b[1;31m---------------------------------------------------------------------------\u001b[0m",
      "\u001b[1;31mRuntimeError\u001b[0m                              Traceback (most recent call last)",
      "Cell \u001b[1;32mIn[26], line 2\u001b[0m\n\u001b[0;32m      1\u001b[0m PLOTDIR \u001b[38;5;241m=\u001b[39m \u001b[38;5;124m'\u001b[39m\u001b[38;5;124m./results\u001b[39m\u001b[38;5;124m'\u001b[39m\n\u001b[1;32m----> 2\u001b[0m \u001b[43mmviz\u001b[49m\u001b[38;5;241;43m.\u001b[39;49m\u001b[43msave_match_clip\u001b[49m\u001b[43m(\u001b[49m\u001b[43mdf_home\u001b[49m\u001b[38;5;241;43m.\u001b[39;49m\u001b[43miloc\u001b[49m\u001b[43m[\u001b[49m\u001b[38;5;241;43m0\u001b[39;49m\u001b[43m:\u001b[49m\u001b[38;5;241;43m0\u001b[39;49m\u001b[38;5;241;43m+\u001b[39;49m\u001b[38;5;241;43m500\u001b[39;49m\u001b[43m]\u001b[49m\u001b[43m,\u001b[49m\u001b[43mdf_away\u001b[49m\u001b[38;5;241;43m.\u001b[39;49m\u001b[43miloc\u001b[49m\u001b[43m[\u001b[49m\u001b[38;5;241;43m0\u001b[39;49m\u001b[43m:\u001b[49m\u001b[38;5;241;43m0\u001b[39;49m\u001b[38;5;241;43m+\u001b[39;49m\u001b[38;5;241;43m500\u001b[39;49m\u001b[43m]\u001b[49m\u001b[43m,\u001b[49m\u001b[43mPLOTDIR\u001b[49m\u001b[43m,\u001b[49m\u001b[43mfname\u001b[49m\u001b[38;5;241;43m=\u001b[39;49m\u001b[38;5;124;43m'\u001b[39;49m\u001b[38;5;124;43mresult_1\u001b[39;49m\u001b[38;5;124;43m'\u001b[39;49m\u001b[43m,\u001b[49m\u001b[43minclude_player_velocities\u001b[49m\u001b[38;5;241;43m=\u001b[39;49m\u001b[38;5;28;43;01mFalse\u001b[39;49;00m\u001b[43m)\u001b[49m\n",
      "File \u001b[1;32mc:\\Users\\82108\\Documents\\DataScience\\Fm_datamining_sample\\Metrica_Viz.py:181\u001b[0m, in \u001b[0;36msave_match_clip\u001b[1;34m(hometeam, awayteam, fpath, fname, figax, frames_per_second, team_colors, field_dimen, include_player_velocities, PlayerMarkerSize, PlayerAlpha)\u001b[0m\n\u001b[0;32m    179\u001b[0m index \u001b[38;5;241m=\u001b[39m hometeam\u001b[38;5;241m.\u001b[39mindex\n\u001b[0;32m    180\u001b[0m \u001b[38;5;66;03m# Set figure and movie settings\u001b[39;00m\n\u001b[1;32m--> 181\u001b[0m FFMpegWriter \u001b[38;5;241m=\u001b[39m \u001b[43manimation\u001b[49m\u001b[38;5;241;43m.\u001b[39;49m\u001b[43mwriters\u001b[49m\u001b[43m[\u001b[49m\u001b[38;5;124;43m'\u001b[39;49m\u001b[38;5;124;43mffmpeg\u001b[39;49m\u001b[38;5;124;43m'\u001b[39;49m\u001b[43m]\u001b[49m\n\u001b[0;32m    182\u001b[0m metadata \u001b[38;5;241m=\u001b[39m \u001b[38;5;28mdict\u001b[39m(title\u001b[38;5;241m=\u001b[39m\u001b[38;5;124m'\u001b[39m\u001b[38;5;124mTracking Data\u001b[39m\u001b[38;5;124m'\u001b[39m, artist\u001b[38;5;241m=\u001b[39m\u001b[38;5;124m'\u001b[39m\u001b[38;5;124mMatplotlib\u001b[39m\u001b[38;5;124m'\u001b[39m, comment\u001b[38;5;241m=\u001b[39m\u001b[38;5;124m'\u001b[39m\u001b[38;5;124mMetrica tracking data clip\u001b[39m\u001b[38;5;124m'\u001b[39m)\n\u001b[0;32m    183\u001b[0m writer \u001b[38;5;241m=\u001b[39m FFMpegWriter(fps\u001b[38;5;241m=\u001b[39mframes_per_second, metadata\u001b[38;5;241m=\u001b[39mmetadata)\n",
      "File \u001b[1;32mc:\\Users\\82108\\anaconda3\\envs\\condatest\\lib\\site-packages\\matplotlib\\animation.py:128\u001b[0m, in \u001b[0;36mMovieWriterRegistry.__getitem__\u001b[1;34m(self, name)\u001b[0m\n\u001b[0;32m    126\u001b[0m \u001b[38;5;28;01mif\u001b[39;00m \u001b[38;5;28mself\u001b[39m\u001b[38;5;241m.\u001b[39mis_available(name):\n\u001b[0;32m    127\u001b[0m     \u001b[38;5;28;01mreturn\u001b[39;00m \u001b[38;5;28mself\u001b[39m\u001b[38;5;241m.\u001b[39m_registered[name]\n\u001b[1;32m--> 128\u001b[0m \u001b[38;5;28;01mraise\u001b[39;00m \u001b[38;5;167;01mRuntimeError\u001b[39;00m(\u001b[38;5;124mf\u001b[39m\u001b[38;5;124m\"\u001b[39m\u001b[38;5;124mRequested MovieWriter (\u001b[39m\u001b[38;5;132;01m{\u001b[39;00mname\u001b[38;5;132;01m}\u001b[39;00m\u001b[38;5;124m) not available\u001b[39m\u001b[38;5;124m\"\u001b[39m)\n",
      "\u001b[1;31mRuntimeError\u001b[0m: Requested MovieWriter (ffmpeg) not available"
     ]
    }
   ],
   "source": [
    "#PLOTDIR = './results'\n",
    "mviz.save_match_clip(df_home.iloc[0:0+500],df_away.iloc[0:0+500],PLOTDIR,fname='result_1',include_player_velocities=False)"
   ]
  }
 ],
 "metadata": {
  "colab": {
   "authorship_tag": "ABX9TyNyuMXIH97vpXRA/1Q4uBZ1",
   "provenance": []
  },
  "kernelspec": {
   "display_name": "condatest",
   "language": "python",
   "name": "condatest"
  },
  "language_info": {
   "codemirror_mode": {
    "name": "ipython",
    "version": 3
   },
   "file_extension": ".py",
   "mimetype": "text/x-python",
   "name": "python",
   "nbconvert_exporter": "python",
   "pygments_lexer": "ipython3",
   "version": "3.9.21"
  }
 },
 "nbformat": 4,
 "nbformat_minor": 0
}
